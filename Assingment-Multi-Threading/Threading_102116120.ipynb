{
 "cells": [
  {
   "cell_type": "code",
   "execution_count": 2,
   "metadata": {},
   "outputs": [],
   "source": [
    "import numpy as np\n",
    "import pandas as pd\n",
    "import threading , multiprocessing\n",
    "import time"
   ]
  },
  {
   "attachments": {},
   "cell_type": "markdown",
   "metadata": {},
   "source": [
    "<h2>Main Matrix"
   ]
  },
  {
   "cell_type": "code",
   "execution_count": 3,
   "metadata": {},
   "outputs": [
    {
     "data": {
      "text/plain": [
       "array([[7, 3, 2, ..., 6, 1, 0],\n",
       "       [5, 6, 5, ..., 3, 7, 8],\n",
       "       [5, 8, 7, ..., 7, 8, 4],\n",
       "       ...,\n",
       "       [0, 6, 3, ..., 6, 4, 7],\n",
       "       [8, 3, 0, ..., 1, 0, 3],\n",
       "       [2, 3, 3, ..., 3, 2, 6]])"
      ]
     },
     "execution_count": 3,
     "metadata": {},
     "output_type": "execute_result"
    }
   ],
   "source": [
    "main_matrix = np.random.randint(0, 9, size=(10000, 10000)) \n",
    "main_matrix   "
   ]
  },
  {
   "attachments": {},
   "cell_type": "markdown",
   "metadata": {},
   "source": [
    "<h2>Multiplying with 100 random matrix"
   ]
  },
  {
   "cell_type": "code",
   "execution_count": 4,
   "metadata": {},
   "outputs": [],
   "source": [
    "def matrix_mult(main_matrix):\n",
    "    random_matrix = np.random.randint(0,9,size=(10000,10000))\n",
    "    np.dot(main_matrix,random_matrix)\n",
    "\n",
    "def seq(main_matrix,lower_range,upper_range):\n",
    "    for i in range(lower_range,upper_range):\n",
    "        matrix_mult(main_matrix)\n",
    "        \n",
    "    "
   ]
  },
  {
   "cell_type": "code",
   "execution_count": 5,
   "metadata": {},
   "outputs": [],
   "source": [
    "data_collected = []"
   ]
  },
  {
   "attachments": {},
   "cell_type": "markdown",
   "metadata": {},
   "source": [
    "1 Thread"
   ]
  },
  {
   "cell_type": "code",
   "execution_count": 6,
   "metadata": {},
   "outputs": [
    {
     "data": {
      "text/plain": [
       "[0.0010046958923339844]"
      ]
     },
     "execution_count": 6,
     "metadata": {},
     "output_type": "execute_result"
    }
   ],
   "source": [
    "t1 = threading.Thread(target=seq,args=(main_matrix,0,100))\n",
    "start = time.time()\n",
    "t1.start()\n",
    "end = time.time()\n",
    "data_collected.append(end-start)\n",
    "data_collected"
   ]
  },
  {
   "attachments": {},
   "cell_type": "markdown",
   "metadata": {},
   "source": [
    "2 Threads"
   ]
  },
  {
   "cell_type": "code",
   "execution_count": 7,
   "metadata": {},
   "outputs": [
    {
     "data": {
      "text/plain": [
       "[0.0010046958923339844, 0.003970146179199219]"
      ]
     },
     "execution_count": 7,
     "metadata": {},
     "output_type": "execute_result"
    }
   ],
   "source": [
    "t1 = threading.Thread(target=seq,args=(main_matrix,0,50))\n",
    "t2 = threading.Thread(target=seq,args=(main_matrix,5,100))\n",
    "start = time.time()\n",
    "t1.start()\n",
    "t2.start()\n",
    "end = time.time()\n",
    "data_collected.append(end-start)\n",
    "data_collected"
   ]
  },
  {
   "attachments": {},
   "cell_type": "markdown",
   "metadata": {},
   "source": [
    "3 Threads"
   ]
  },
  {
   "cell_type": "code",
   "execution_count": 8,
   "metadata": {},
   "outputs": [
    {
     "data": {
      "text/plain": [
       "[0.0010046958923339844, 0.003970146179199219, 0.0029981136322021484]"
      ]
     },
     "execution_count": 8,
     "metadata": {},
     "output_type": "execute_result"
    }
   ],
   "source": [
    "t1 = threading.Thread(target=seq,args=(main_matrix,0,50))\n",
    "t2 = threading.Thread(target=seq,args=(main_matrix,5,100))\n",
    "t3 = threading.Thread(target=seq,args=(main_matrix,5,100))\n",
    "start = time.time()\n",
    "t1.start()\n",
    "t2.start()\n",
    "end = time.time()\n",
    "data_collected.append(end-start)\n",
    "data_collected"
   ]
  },
  {
   "attachments": {},
   "cell_type": "markdown",
   "metadata": {},
   "source": [
    "4 Threads"
   ]
  },
  {
   "cell_type": "code",
   "execution_count": 9,
   "metadata": {},
   "outputs": [
    {
     "data": {
      "text/plain": [
       "[0.0010046958923339844,\n",
       " 0.003970146179199219,\n",
       " 0.0029981136322021484,\n",
       " 0.01298213005065918]"
      ]
     },
     "execution_count": 9,
     "metadata": {},
     "output_type": "execute_result"
    }
   ],
   "source": [
    "t1 = threading.Thread(target=seq,args=(main_matrix,0,25))\n",
    "t2 = threading.Thread(target=seq,args=(main_matrix,25,50))\n",
    "t3 = threading.Thread(target=seq,args=(main_matrix,50,75))\n",
    "t4 = threading.Thread(target=seq,args=(main_matrix,75,100))\n",
    "start = time.time()\n",
    "t1.start()\n",
    "t2.start()\n",
    "t3.start()\n",
    "t4.start()\n",
    "end = time.time()\n",
    "data_collected.append(end-start)\n",
    "data_collected"
   ]
  },
  {
   "attachments": {},
   "cell_type": "markdown",
   "metadata": {},
   "source": [
    "5 Threads"
   ]
  },
  {
   "cell_type": "code",
   "execution_count": 10,
   "metadata": {},
   "outputs": [
    {
     "data": {
      "text/plain": [
       "[0.0010046958923339844,\n",
       " 0.003970146179199219,\n",
       " 0.0029981136322021484,\n",
       " 0.01298213005065918,\n",
       " 0.23399782180786133]"
      ]
     },
     "execution_count": 10,
     "metadata": {},
     "output_type": "execute_result"
    }
   ],
   "source": [
    "t1 = threading.Thread(target=seq,args=(main_matrix,0,20))\n",
    "t2 = threading.Thread(target=seq,args=(main_matrix,20,40))\n",
    "t3 = threading.Thread(target=seq,args=(main_matrix,40,60))\n",
    "t4 = threading.Thread(target=seq,args=(main_matrix,60,80))\n",
    "t5 = threading.Thread(target=seq,args=(main_matrix,80,100))\n",
    "start = time.time()\n",
    "t1.start()\n",
    "t2.start()\n",
    "t3.start()\n",
    "t4.start()\n",
    "t5.start()\n",
    "end = time.time()\n",
    "data_collected.append(end-start)\n",
    "data_collected"
   ]
  },
  {
   "attachments": {},
   "cell_type": "markdown",
   "metadata": {},
   "source": [
    "6 Threads"
   ]
  },
  {
   "cell_type": "code",
   "execution_count": 11,
   "metadata": {},
   "outputs": [
    {
     "data": {
      "text/plain": [
       "[0.0010046958923339844,\n",
       " 0.003970146179199219,\n",
       " 0.0029981136322021484,\n",
       " 0.01298213005065918,\n",
       " 0.23399782180786133,\n",
       " 0.6259956359863281]"
      ]
     },
     "execution_count": 11,
     "metadata": {},
     "output_type": "execute_result"
    }
   ],
   "source": [
    "t1 = threading.Thread(target=seq,args=(main_matrix,0,17))\n",
    "t2 = threading.Thread(target=seq,args=(main_matrix,17,34))\n",
    "t3 = threading.Thread(target=seq,args=(main_matrix,34,51))\n",
    "t4 = threading.Thread(target=seq,args=(main_matrix,51,68))\n",
    "t5 = threading.Thread(target=seq,args=(main_matrix,68,85))\n",
    "t6 = threading.Thread(target=seq,args=(main_matrix,85,100))\n",
    "start = time.time()\n",
    "t1.start()\n",
    "t2.start()\n",
    "t3.start()\n",
    "t4.start()\n",
    "t5.start()\n",
    "t6.start()\n",
    "end = time.time()\n",
    "data_collected.append(end-start)\n",
    "data_collected"
   ]
  },
  {
   "cell_type": "code",
   "execution_count": 19,
   "metadata": {},
   "outputs": [],
   "source": [
    "d = np.array(data_collected)"
   ]
  },
  {
   "cell_type": "code",
   "execution_count": 23,
   "metadata": {},
   "outputs": [
    {
     "data": {
      "text/html": [
       "<div>\n",
       "<style scoped>\n",
       "    .dataframe tbody tr th:only-of-type {\n",
       "        vertical-align: middle;\n",
       "    }\n",
       "\n",
       "    .dataframe tbody tr th {\n",
       "        vertical-align: top;\n",
       "    }\n",
       "\n",
       "    .dataframe thead th {\n",
       "        text-align: right;\n",
       "    }\n",
       "</style>\n",
       "<table border=\"1\" class=\"dataframe\">\n",
       "  <thead>\n",
       "    <tr style=\"text-align: right;\">\n",
       "      <th></th>\n",
       "      <th>T1</th>\n",
       "      <th>T2</th>\n",
       "      <th>T3</th>\n",
       "      <th>T4</th>\n",
       "      <th>T5</th>\n",
       "      <th>T6</th>\n",
       "    </tr>\n",
       "  </thead>\n",
       "  <tbody>\n",
       "    <tr>\n",
       "      <th>0</th>\n",
       "      <td>0.001005</td>\n",
       "      <td>0.00397</td>\n",
       "      <td>0.002998</td>\n",
       "      <td>0.012982</td>\n",
       "      <td>0.233998</td>\n",
       "      <td>0.625996</td>\n",
       "    </tr>\n",
       "  </tbody>\n",
       "</table>\n",
       "</div>"
      ],
      "text/plain": [
       "         T1       T2        T3        T4        T5        T6\n",
       "0  0.001005  0.00397  0.002998  0.012982  0.233998  0.625996"
      ]
     },
     "execution_count": 23,
     "metadata": {},
     "output_type": "execute_result"
    }
   ],
   "source": [
    "df = pd.DataFrame([d], columns=['T1', 'T2', 'T3', 'T4', 'T5', 'T6'])\n",
    "df"
   ]
  }
 ],
 "metadata": {
  "kernelspec": {
   "display_name": "Python 3",
   "language": "python",
   "name": "python3"
  },
  "language_info": {
   "codemirror_mode": {
    "name": "ipython",
    "version": 3
   },
   "file_extension": ".py",
   "mimetype": "text/x-python",
   "name": "python",
   "nbconvert_exporter": "python",
   "pygments_lexer": "ipython3",
   "version": "3.9.0"
  },
  "orig_nbformat": 4
 },
 "nbformat": 4,
 "nbformat_minor": 2
}
