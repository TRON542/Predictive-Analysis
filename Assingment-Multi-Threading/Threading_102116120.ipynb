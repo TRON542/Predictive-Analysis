{
 "cells": [
  {
   "cell_type": "code",
   "execution_count": 30,
   "metadata": {},
   "outputs": [],
   "source": [
    "import numpy as np\n",
    "import pandas as pd\n",
    "import threading , multiprocessing\n",
    "import time"
   ]
  },
  {
   "attachments": {},
   "cell_type": "markdown",
   "metadata": {},
   "source": [
    "<h2>Active multiprocessor and threads"
   ]
  },
  {
   "cell_type": "code",
   "execution_count": 31,
   "metadata": {},
   "outputs": [
    {
     "name": "stdout",
     "output_type": "stream",
     "text": [
      "Num of cores are:  8\n"
     ]
    }
   ],
   "source": [
    "numberOfCores = multiprocessing.cpu_count()\n",
    "print (\"Num of cores are: \", numberOfCores)"
   ]
  },
  {
   "cell_type": "code",
   "execution_count": 32,
   "metadata": {},
   "outputs": [
    {
     "name": "stdout",
     "output_type": "stream",
     "text": [
      "Num of threads:  12\n"
     ]
    }
   ],
   "source": [
    "activeThread = threading.activeCount()\n",
    "print (\"Num of threads: \",activeThread)\n"
   ]
  },
  {
   "attachments": {},
   "cell_type": "markdown",
   "metadata": {},
   "source": [
    "<h2> Main Matrix"
   ]
  },
  {
   "cell_type": "code",
   "execution_count": 33,
   "metadata": {},
   "outputs": [
    {
     "data": {
      "text/plain": [
       "array([[5, 1, 2, ..., 0, 6, 8],\n",
       "       [6, 4, 3, ..., 5, 3, 2],\n",
       "       [2, 5, 7, ..., 0, 8, 1],\n",
       "       ...,\n",
       "       [8, 5, 4, ..., 0, 0, 0],\n",
       "       [3, 8, 8, ..., 1, 0, 4],\n",
       "       [8, 6, 2, ..., 3, 6, 5]])"
      ]
     },
     "execution_count": 33,
     "metadata": {},
     "output_type": "execute_result"
    }
   ],
   "source": [
    "main_matrix = np.random.randint(0, 9, size=(500, 500)) \n",
    "main_matrix   "
   ]
  },
  {
   "attachments": {},
   "cell_type": "markdown",
   "metadata": {},
   "source": [
    "<h2>Multiplying with 100 random matrix"
   ]
  },
  {
   "cell_type": "code",
   "execution_count": 34,
   "metadata": {},
   "outputs": [],
   "source": [
    "def matrix_mu(main_matrix,saved):\n",
    "    random_matrix = np.random.randint(0,9,size=(500,500))\n",
    "    mult = np.dot(main_matrix,random_matrix)\n",
    "    saved.append(mult)\n",
    "\n",
    "\n",
    "def seqq(main_matrix,lower_range,upper_range,saved):\n",
    "    for i in range(lower_range,upper_range):\n",
    "        matrix_mu(main_matrix,saved)\n",
    "        \n",
    "#seqq(main_matrix,0,100,saved_matrix)        \n",
    "            "
   ]
  },
  {
   "cell_type": "code",
   "execution_count": 35,
   "metadata": {},
   "outputs": [],
   "source": [
    "data_collected = []\n",
    "saved_matrix = []"
   ]
  },
  {
   "attachments": {},
   "cell_type": "markdown",
   "metadata": {},
   "source": [
    "1 Thread"
   ]
  },
  {
   "cell_type": "code",
   "execution_count": 36,
   "metadata": {},
   "outputs": [
    {
     "data": {
      "text/plain": [
       "[47.95684504508972]"
      ]
     },
     "execution_count": 36,
     "metadata": {},
     "output_type": "execute_result"
    }
   ],
   "source": [
    "t1 = threading.Thread(target=seqq,args=(main_matrix,0,100,saved_matrix))\n",
    "start = time.time()\n",
    "activeThreads = threading.activeCount()\n",
    "t1.start()\n",
    "while True:\n",
    "    if threading.activeCount() == activeThreads:\n",
    "        break\n",
    "\n",
    "end = time.time()\n",
    "data_collected.append(end-start)\n",
    "data_collected"
   ]
  },
  {
   "attachments": {},
   "cell_type": "markdown",
   "metadata": {},
   "source": [
    "2 Threads"
   ]
  },
  {
   "cell_type": "code",
   "execution_count": 37,
   "metadata": {},
   "outputs": [
    {
     "data": {
      "text/plain": [
       "[47.95684504508972, 23.54999804496765]"
      ]
     },
     "execution_count": 37,
     "metadata": {},
     "output_type": "execute_result"
    }
   ],
   "source": [
    "t1 = threading.Thread(target=seqq,args=(main_matrix,0,50,saved_matrix))\n",
    "t2 = threading.Thread(target=seqq,args=(main_matrix,50,100,saved_matrix))\n",
    "start = time.time()\n",
    "activeThreads = threading.activeCount()\n",
    "t1.start()\n",
    "t2.start()\n",
    "while True:\n",
    "    if threading.activeCount() == activeThreads:\n",
    "        break\n",
    "end = time.time()\n",
    "data_collected.append(end-start)\n",
    "data_collected"
   ]
  },
  {
   "attachments": {},
   "cell_type": "markdown",
   "metadata": {},
   "source": [
    "3 Threads"
   ]
  },
  {
   "cell_type": "code",
   "execution_count": 38,
   "metadata": {},
   "outputs": [
    {
     "data": {
      "text/plain": [
       "[47.95684504508972, 23.54999804496765, 17.045008420944214]"
      ]
     },
     "execution_count": 38,
     "metadata": {},
     "output_type": "execute_result"
    }
   ],
   "source": [
    "t1 = threading.Thread(target=seqq,args=(main_matrix,0,33,saved_matrix))\n",
    "t2 = threading.Thread(target=seqq,args=(main_matrix,34,66,saved_matrix))\n",
    "t3 = threading.Thread(target=seqq,args=(main_matrix,67,100,saved_matrix))\n",
    "start = time.time()\n",
    "activeThreads = threading.activeCount()\n",
    "t1.start()\n",
    "t2.start()\n",
    "while True:\n",
    "    if threading.activeCount() == activeThreads:\n",
    "        break\n",
    "end = time.time()\n",
    "data_collected.append(end-start)\n",
    "data_collected"
   ]
  },
  {
   "attachments": {},
   "cell_type": "markdown",
   "metadata": {},
   "source": [
    "4 Threads"
   ]
  },
  {
   "cell_type": "code",
   "execution_count": 39,
   "metadata": {},
   "outputs": [
    {
     "data": {
      "text/plain": [
       "[47.95684504508972, 23.54999804496765, 17.045008420944214, 16.193993091583252]"
      ]
     },
     "execution_count": 39,
     "metadata": {},
     "output_type": "execute_result"
    }
   ],
   "source": [
    "t1 = threading.Thread(target=seqq,args=(main_matrix,0,25,saved_matrix))\n",
    "t2 = threading.Thread(target=seqq,args=(main_matrix,25,50,saved_matrix))\n",
    "t3 = threading.Thread(target=seqq,args=(main_matrix,50,75,saved_matrix))\n",
    "t4 = threading.Thread(target=seqq,args=(main_matrix,75,100,saved_matrix))\n",
    "start = time.time()\n",
    "activeThreads = threading.activeCount()\n",
    "t1.start()\n",
    "t2.start()\n",
    "t3.start()\n",
    "t4.start()\n",
    "while True:\n",
    "    if threading.activeCount() == activeThreads:\n",
    "        break\n",
    "end = time.time()\n",
    "data_collected.append(end-start)\n",
    "data_collected"
   ]
  },
  {
   "attachments": {},
   "cell_type": "markdown",
   "metadata": {},
   "source": [
    "5 Threads"
   ]
  },
  {
   "cell_type": "code",
   "execution_count": 40,
   "metadata": {},
   "outputs": [
    {
     "data": {
      "text/plain": [
       "[47.95684504508972,\n",
       " 23.54999804496765,\n",
       " 17.045008420944214,\n",
       " 16.193993091583252,\n",
       " 15.298963069915771]"
      ]
     },
     "execution_count": 40,
     "metadata": {},
     "output_type": "execute_result"
    }
   ],
   "source": [
    "t1 = threading.Thread(target=seqq,args=(main_matrix,0,20,saved_matrix))\n",
    "t2 = threading.Thread(target=seqq,args=(main_matrix,20,40,saved_matrix))\n",
    "t3 = threading.Thread(target=seqq,args=(main_matrix,40,60,saved_matrix))\n",
    "t4 = threading.Thread(target=seqq,args=(main_matrix,60,80,saved_matrix))\n",
    "t5 = threading.Thread(target=seqq,args=(main_matrix,80,100,saved_matrix))\n",
    "start = time.time()\n",
    "activeThreads = threading.activeCount()\n",
    "t1.start()\n",
    "t2.start()\n",
    "t3.start()\n",
    "t4.start()\n",
    "t5.start()\n",
    "while True:\n",
    "    if threading.activeCount() == activeThreads:\n",
    "        break\n",
    "end = time.time()\n",
    "data_collected.append(end-start)\n",
    "data_collected"
   ]
  },
  {
   "attachments": {},
   "cell_type": "markdown",
   "metadata": {},
   "source": [
    "6 Threads"
   ]
  },
  {
   "cell_type": "code",
   "execution_count": 41,
   "metadata": {},
   "outputs": [
    {
     "data": {
      "text/plain": [
       "[47.95684504508972,\n",
       " 23.54999804496765,\n",
       " 17.045008420944214,\n",
       " 16.193993091583252,\n",
       " 15.298963069915771,\n",
       " 13.658994197845459]"
      ]
     },
     "execution_count": 41,
     "metadata": {},
     "output_type": "execute_result"
    }
   ],
   "source": [
    "t1 = threading.Thread(target=seqq,args=(main_matrix,0,17,saved_matrix))\n",
    "t2 = threading.Thread(target=seqq,args=(main_matrix,17,34,saved_matrix))\n",
    "t3 = threading.Thread(target=seqq,args=(main_matrix,34,51,saved_matrix))\n",
    "t4 = threading.Thread(target=seqq,args=(main_matrix,51,68,saved_matrix))\n",
    "t5 = threading.Thread(target=seqq,args=(main_matrix,68,85,saved_matrix))\n",
    "t6 = threading.Thread(target=seqq,args=(main_matrix,85,100,saved_matrix))\n",
    "start = time.time()\n",
    "activeThreads = threading.activeCount()\n",
    "t1.start()\n",
    "t2.start()\n",
    "t3.start()\n",
    "t4.start()\n",
    "t5.start()\n",
    "t6.start()\n",
    "while True:\n",
    "    if threading.activeCount() == activeThreads:\n",
    "        break\n",
    "end = time.time()\n",
    "data_collected.append(end-start)\n",
    "data_collected"
   ]
  },
  {
   "cell_type": "code",
   "execution_count": 42,
   "metadata": {},
   "outputs": [],
   "source": [
    "d = np.array(data_collected)"
   ]
  },
  {
   "cell_type": "code",
   "execution_count": 43,
   "metadata": {},
   "outputs": [
    {
     "data": {
      "text/html": [
       "<div>\n",
       "<style scoped>\n",
       "    .dataframe tbody tr th:only-of-type {\n",
       "        vertical-align: middle;\n",
       "    }\n",
       "\n",
       "    .dataframe tbody tr th {\n",
       "        vertical-align: top;\n",
       "    }\n",
       "\n",
       "    .dataframe thead th {\n",
       "        text-align: right;\n",
       "    }\n",
       "</style>\n",
       "<table border=\"1\" class=\"dataframe\">\n",
       "  <thead>\n",
       "    <tr style=\"text-align: right;\">\n",
       "      <th></th>\n",
       "      <th>T1</th>\n",
       "      <th>T2</th>\n",
       "      <th>T3</th>\n",
       "      <th>T4</th>\n",
       "      <th>T5</th>\n",
       "      <th>T6</th>\n",
       "    </tr>\n",
       "  </thead>\n",
       "  <tbody>\n",
       "    <tr>\n",
       "      <th>0</th>\n",
       "      <td>47.956845</td>\n",
       "      <td>23.549998</td>\n",
       "      <td>17.045008</td>\n",
       "      <td>16.193993</td>\n",
       "      <td>15.298963</td>\n",
       "      <td>13.658994</td>\n",
       "    </tr>\n",
       "  </tbody>\n",
       "</table>\n",
       "</div>"
      ],
      "text/plain": [
       "          T1         T2         T3         T4         T5         T6\n",
       "0  47.956845  23.549998  17.045008  16.193993  15.298963  13.658994"
      ]
     },
     "execution_count": 43,
     "metadata": {},
     "output_type": "execute_result"
    }
   ],
   "source": [
    "df = pd.DataFrame([d], columns=['T1', 'T2', 'T3', 'T4', 'T5', 'T6'])\n",
    "df"
   ]
  }
 ],
 "metadata": {
  "kernelspec": {
   "display_name": "Python 3",
   "language": "python",
   "name": "python3"
  },
  "language_info": {
   "codemirror_mode": {
    "name": "ipython",
    "version": 3
   },
   "file_extension": ".py",
   "mimetype": "text/x-python",
   "name": "python",
   "nbconvert_exporter": "python",
   "pygments_lexer": "ipython3",
   "version": "3.9.0"
  },
  "orig_nbformat": 4
 },
 "nbformat": 4,
 "nbformat_minor": 2
}
